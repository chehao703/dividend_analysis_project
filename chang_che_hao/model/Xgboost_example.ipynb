{
 "cells": [
  {
   "cell_type": "code",
   "execution_count": 3,
   "metadata": {},
   "outputs": [],
   "source": [
    "from sklearn.preprocessing import StandardScaler\n",
    "from sklearn.decomposition import PCA\n",
    "from sklearn.pipeline import make_pipeline\n",
    "from sklearn.metrics import confusion_matrix\n",
    "from sklearn.metrics import classification_report\n",
    "from sklearn.ensemble import RandomForestRegressor\n",
    "from sklearn.linear_model import LogisticRegression\n",
    "from sklearn.metrics import mean_squared_error\n",
    "from sklearn.metrics import r2_score\n",
    "from sklearn.model_selection import train_test_split\n",
    "from sklearn.model_selection import StratifiedKFold\n",
    "from xgboost import XGBRegressor\n",
    "# from yellowbrick.regressor import ResidualsPlot\n",
    "import numpy as np\n",
    "import matplotlib.pyplot as plt\n",
    "import matplotlib.font_manager\n",
    "from sklearn import svm\n",
    "import pandas as pd\n",
    "import matplotlib.pyplot as plt\n",
    "import seaborn as sns\n",
    "import time"
   ]
  },
  {
   "cell_type": "code",
   "execution_count": null,
   "metadata": {},
   "outputs": [],
   "source": [
    "cols2=[] # 繪圖用欄位名稱\n",
    "for i in data1.columns:\n",
    "    cols2.append(i)\n",
    "cols2.pop()"
   ]
  },
  {
   "cell_type": "markdown",
   "metadata": {},
   "source": [
    "## 訓練"
   ]
  },
  {
   "cell_type": "code",
   "execution_count": null,
   "metadata": {},
   "outputs": [],
   "source": [
    "data1 = pd.read_csv('./exchange_ratePrice10000000Lot1000000Sqft10000_ptta.csv')\n",
    "data1 = data1.drop(columns = ['_25k', '25k_60k','60k_150k', '150k_',\n",
    "                              'male', 'female', 'sexRatio',\n",
    "                              'White', 'African', 'Asian', \n",
    "                              'Hawaiian', 'Indian', 'Others',\n",
    "                              'WhiteRatio','MaleMedianAge',\n",
    "                              'FemaleMedianAge'])\n",
    "data1['zipcode'] = data1['zipcode'].astype(str)\n",
    "data1['zipcode'] = data1['zipcode'].astype('category')\n",
    "X = data1.iloc[:,:-1].values\n",
    "y= data1.iloc[:,-1].values\n",
    "# X2 = StandardScaler().fit_transform(X)\n",
    "X_train, X_test, y_train, y_test =  train_test_split(X, y,\n",
    "                     test_size=0.20)\n",
    "xgb = XGBRegressor(\n",
    "#     objective='reg:squarederror',\n",
    "    learning_rate=0.2,\n",
    "    n_estimators=275, \n",
    "    max_depth=6,\n",
    "    min_child_weight=1,\n",
    "    colsample_bytree=0.95,\n",
    "    subsample=0.8,\n",
    "    reg_alpha=4,\n",
    "    reg_lambda=3,\n",
    "\n",
    ") \n",
    "xgb.fit(X_train,y_train)\n",
    "print(time.process_time() - start)\n",
    "\n",
    "y_train_pred = xgb.predict(X_train)\n",
    "y_test_pred = xgb.predict(X_test)\n",
    "print('測試正確率: %.3f' % xgb.score(X_test, y_test))\n",
    "print('MSE train: %.3f, test: %.3f' % (\n",
    "        mean_squared_error(y_train, y_train_pred),\n",
    "        mean_squared_error(y_test, y_test_pred)))\n",
    "print('R^2 train: %.3f, test: %.3f' % (\n",
    "        r2_score(y_train, y_train_pred),\n",
    "        r2_score(y_test, y_test_pred)))"
   ]
  },
  {
   "cell_type": "code",
   "execution_count": null,
   "metadata": {},
   "outputs": [],
   "source": [
    "# visualizer繪製殘插圖\n",
    "visualizer = ResidualsPlot(pipe_lr)\n",
    "visualizer.fit(X_train,y_train)\n",
    "visualizer.score(X_test, y_test)\n",
    "visualizer.show()"
   ]
  },
  {
   "cell_type": "code",
   "execution_count": null,
   "metadata": {},
   "outputs": [],
   "source": [
    "# 第二種殘插圖看喜歡哪個\n",
    "plt.scatter(y_train_pred,  y_train_pred - y_train,\n",
    "            c='steelblue', marker='o', edgecolor='white',\n",
    "            label='Training data')\n",
    "plt.scatter(y_test_pred,  y_test_pred - y_test,\n",
    "            c='limegreen', marker='s', edgecolor='white',\n",
    "            label='Test data')\n",
    "plt.xlabel('Predicted values')\n",
    "plt.ylabel('Residuals')\n",
    "plt.legend(loc='upper left')\n",
    "plt.hlines(y=0, xmin=-10, xmax=50, color='black', lw=2)\n",
    "plt.xlim([100000, 10000000])\n",
    "plt.tight_layout()\n",
    "\n",
    "# plt.savefig('demo6_1.png', dpi=300)\n",
    "plt.show()"
   ]
  },
  {
   "cell_type": "code",
   "execution_count": null,
   "metadata": {},
   "outputs": [],
   "source": [
    "# 重要特徵長條圖\n",
    "importances = []\n",
    "for i in xgb.feature_importances_:\n",
    "    importances.append(i)\n",
    "# print(importances)\n",
    "# print(cols2)\n",
    "feature_dict = {\"feature\": cols2,\"importans\":importances}\n",
    "feature_importance_df =pd.DataFrame(feature_dict)\n",
    "# feature_importance_df\n",
    "plt.figure(figsize=(12, 6))\n",
    "sns.barplot(x=\"importans\", y=\"feature\", data=feature_importance_df)\n",
    "plt.title('RF features importance:')"
   ]
  },
  {
   "cell_type": "code",
   "execution_count": null,
   "metadata": {},
   "outputs": [],
   "source": [
    "# 兩種圖看喜歡哪一個\n",
    "plt.figure(num=None, figsize=(20, 22), dpi=80, facecolor='w', edgecolor='k')\n",
    "\n",
    "feat_importances = pd.Series(xgb.feature_importances_, index= cols2)\n",
    "feat_importances.nlargest(56).plot(kind='barh')"
   ]
  },
  {
   "cell_type": "markdown",
   "metadata": {},
   "source": [
    "## 網格搜索(找最佳參數，會跑很久)"
   ]
  },
  {
   "cell_type": "code",
   "execution_count": null,
   "metadata": {},
   "outputs": [],
   "source": [
    "data1 = pd.read_csv('./testData.csv')\n",
    "data1 = data1.drop(columns = ['_25k', '25k_60k','60k_150k', '150k_',\n",
    "                              'male', 'female', 'sexRatio',\n",
    "                              'White', 'African', 'Asian', 'Hawaiian', 'Indian', 'Others',\n",
    "                              'WhiteRatio','MaleMedianAge',\n",
    "                              'FemaleMedianAge'])\n",
    "X = data1.iloc[:,:-1].values\n",
    "y= data1.iloc[:,-1].values\n",
    "X2 = StandardScaler().fit_transform(X)\n",
    "X_train, X_test, y_train, y_test =  train_test_split(X2, y,\n",
    "                     test_size=0.20)\n",
    "\n",
    "xgb = XGBRegressor(\n",
    "#     objective='reg:squarederror',\n",
    "    learning_rate=0.2,\n",
    "    n_estimators=275, \n",
    "    max_depth=6,\n",
    "    min_child_weight=1,\n",
    "    colsample_bytree=0.95,\n",
    "    subsample=0.8,\n",
    "    reg_alpha=4,\n",
    "    reg_lambda=3,\n",
    "\n",
    ") \n",
    "\n",
    "cv_params = {'n_estimators': [80,85,100,120]}\n",
    "xgb_cv = GridSearchCV(xgb,param_grid=cv_params, scoring='r2', cv=3, verbose=2, n_jobs=-1)\n",
    "xgb_cv.fit(X_train,y_train)\n",
    "\n",
    "\n",
    "\n",
    "# print result\n",
    "y_train_pred = xgb_cv.predict(X_train)\n",
    "y_test_pred = xgb_cv.predict(X_test)\n",
    "print('R^2 train: %.3f, test: %.3f' % (\n",
    "        r2_score(y_train, y_train_pred),\n",
    "        r2_score(y_test, y_test_pred)))\n",
    "# for i in grid_scores_:\n",
    "#   print(i)\n",
    "print(xgb_cv.best_score_)\n",
    "print(xgb_cv.best_params_)\n",
    "\n",
    "print(\"Best score: %0.3f\" % xgb_cv.best_score_) # 模型最佳績效\n",
    "print(\"Best parameters set:\") # 窮舉後的最佳參數\n",
    "best_parameters = xgb_cv.best_estimator_.get_params()\n",
    "for param_name in sorted(cv_params.keys()):\n",
    "    print(\"\\t%s: %r\" % (param_name, best_parameters[param_name]))"
   ]
  },
  {
   "cell_type": "markdown",
   "metadata": {},
   "source": [
    "## k折驗證"
   ]
  },
  {
   "cell_type": "code",
   "execution_count": null,
   "metadata": {},
   "outputs": [],
   "source": [
    "data1 = pd.read_csv('./exchange_ratePrice10000000Lot1000000Sqft10000_ptta.csv')\n",
    "data1 = data1.drop(columns = ['_25k', '25k_60k','60k_150k', '150k_',\n",
    "                              'male', 'female', 'sexRatio',\n",
    "                              'White', 'African', 'Asian', \n",
    "                              'Hawaiian', 'Indian', 'Others',\n",
    "                              'WhiteRatio','MaleMedianAge',\n",
    "                              'FemaleMedianAge'])\n",
    "data1['zipcode'] = data1['zipcode'].astype(str)\n",
    "data1['zipcode'] = data1['zipcode'].astype('category')\n",
    "X = data1.iloc[:,:-1].values\n",
    "y= data1.iloc[:,-1].values\n",
    "X_train, X_test, y_train, y_test =  train_test_split(X, y,\n",
    "                     test_size=0.20)\n",
    "xgb = XGBRegressor(\n",
    "#     objective='reg:squarederror',\n",
    "    learning_rate=0.2,\n",
    "    n_estimators=275, \n",
    "    max_depth=6,\n",
    "    min_child_weight=1,\n",
    "    colsample_bytree=0.95,\n",
    "    subsample=0.8,\n",
    "    reg_alpha=4,\n",
    "    reg_lambda=3,\n",
    "\n",
    ") \n",
    "pipe_lr = make_pipeline(StandardScaler(),\n",
    "                        xgb)\n",
    "\n",
    "# pipe_lr.fit(X_train, y_train)\n",
    "# y_pred = pipe_lr.predict(X_test)\n",
    "# print('Test Accuracy: %.3f' % pipe_lr.score(X_test, y_test))\n",
    "\n",
    "kfold = StratifiedKFold(n_splits=6).split(X_train, y_train)\n",
    "\n",
    "scores = []\n",
    "for k, (train, test) in enumerate(kfold):\n",
    "    pipe_lr.fit(X_train[train], y_train[train])\n",
    "    score = pipe_lr.score(X_train[test], y_train[test])\n",
    "    scores.append(score)\n",
    "    print('Fold: %2d, Acc: %.3f' % (k+1,score))\n",
    "    \n",
    "print('\\nCV accuracy: %.3f +/- %.3f' % (np.mean(scores), np.std(scores)))"
   ]
  },
  {
   "cell_type": "code",
   "execution_count": null,
   "metadata": {},
   "outputs": [],
   "source": [
    "import matplotlib.pyplot as plt\n",
    "k_range = range(1,7)\n",
    "\n",
    "plt.plot(k_range,scores)\n",
    "plt.xlabel('Value of K for KNN')\n",
    "plt.ylabel('Cross-Validated Accuracy')\n",
    "plt.show()"
   ]
  }
 ],
 "metadata": {
  "kernelspec": {
   "display_name": "Python 3",
   "language": "python",
   "name": "python3"
  },
  "language_info": {
   "codemirror_mode": {
    "name": "ipython",
    "version": 3
   },
   "file_extension": ".py",
   "mimetype": "text/x-python",
   "name": "python",
   "nbconvert_exporter": "python",
   "pygments_lexer": "ipython3",
   "version": "3.8.5"
  }
 },
 "nbformat": 4,
 "nbformat_minor": 4
}
