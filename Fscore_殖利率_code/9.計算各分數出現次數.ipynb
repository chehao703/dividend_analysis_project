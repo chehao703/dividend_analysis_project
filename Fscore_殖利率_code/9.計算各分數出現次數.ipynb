{
 "cells": [
  {
   "cell_type": "code",
   "execution_count": 2,
   "id": "damaged-syria",
   "metadata": {},
   "outputs": [],
   "source": [
    "import pandas as pd\n",
    "import matplotlib.pyplot as plt\n",
    "import numpy as np"
   ]
  },
  {
   "cell_type": "code",
   "execution_count": 19,
   "id": "protecting-world",
   "metadata": {},
   "outputs": [],
   "source": [
    "df=pd.read_csv(r\"C:\\Users\\Student\\Desktop\\依年份排序_成品\\歷年一般fscore.csv\",encoding=\"utf8\")"
   ]
  },
  {
   "cell_type": "code",
   "execution_count": 20,
   "id": "atlantic-break",
   "metadata": {},
   "outputs": [],
   "source": [
    "df1=df.groupby('2020').size()"
   ]
  },
  {
   "cell_type": "code",
   "execution_count": 24,
   "id": "bright-award",
   "metadata": {},
   "outputs": [],
   "source": [
    "df1.to_csv(r\"C:\\Users\\Student\\Desktop\\fscore\\fscore_2020_散佈圖.csv\")"
   ]
  },
  {
   "cell_type": "code",
   "execution_count": 21,
   "id": "compressed-semiconductor",
   "metadata": {},
   "outputs": [],
   "source": [
    "x=[0,1,2,3,4,5,6,7,8,9]\n",
    "y=np.array(df1)"
   ]
  },
  {
   "cell_type": "code",
   "execution_count": 23,
   "id": "solar-fraud",
   "metadata": {},
   "outputs": [
    {
     "data": {
      "image/png": "[encoded data removed]",
      "text/plain": [
       "<Figure size 432x288 with 1 Axes>"
      ]
     },
     "metadata": {
      "needs_background": "light"
     },
     "output_type": "display_data"
    }
   ],
   "source": [
    "fig = plt.figure()   \n",
    "ax = fig.add_subplot(1, 1, 1)\n",
    "ax.scatter(x, y, color='plum')\n",
    "plt.show() "
   ]
  },
  {
   "cell_type": "code",
   "execution_count": null,
   "id": "serial-delay",
   "metadata": {},
   "outputs": [],
   "source": []
  }
 ],
 "metadata": {
  "kernelspec": {
   "display_name": "Python 3",
   "language": "python",
   "name": "python3"
  },
  "language_info": {
   "codemirror_mode": {
    "name": "ipython",
    "version": 3
   },
   "file_extension": ".py",
   "mimetype": "text/x-python",
   "name": "python",
   "nbconvert_exporter": "python",
   "pygments_lexer": "ipython3",
   "version": "3.9.2"
  }
 },
 "nbformat": 4,
 "nbformat_minor": 5
}
