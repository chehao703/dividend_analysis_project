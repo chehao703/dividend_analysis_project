{
 "cells": [
  {
   "cell_type": "code",
   "execution_count": 1,
   "id": "scenic-smoke",
   "metadata": {},
   "outputs": [],
   "source": [
    "import pandas as pd\n",
    "import os"
   ]
  },
  {
   "cell_type": "markdown",
   "id": "color-brave",
   "metadata": {},
   "source": [
    "---"
   ]
  },
  {
   "cell_type": "code",
   "execution_count": 2,
   "id": "natural-criticism",
   "metadata": {},
   "outputs": [
    {
     "data": {
      "text/plain": [
       "['.ipynb_checkpoints',\n",
       " 'exdividend_utf8_new.csv',\n",
       " 'stockprice_2021.csv',\n",
       " '前50還原殖利率.csv',\n",
       " '前50還原殖利率.json',\n",
       " '大於兩趴.ipynb',\n",
       " '整理好的殖利率.csv',\n",
       " '有股價的殖利率.csv',\n",
       " '殖利率全 - 數值.csv',\n",
       " '殖利率全.csv',\n",
       " '殖利率全.json',\n",
       " '股價7_30.csv']"
      ]
     },
     "execution_count": 2,
     "metadata": {},
     "output_type": "execute_result"
    }
   ],
   "source": [
    "os.listdir(r\"\")"
   ]
  },
  {
   "cell_type": "code",
   "execution_count": 3,
   "id": "fundamental-theater",
   "metadata": {},
   "outputs": [],
   "source": [
    "df=pd.read_csv(r\"\").iloc[:, lambda x:[0,1,5]]"
   ]
  },
  {
   "cell_type": "markdown",
   "id": "appreciated-astrology",
   "metadata": {},
   "source": [
    "### 挑選7/30出來"
   ]
  },
  {
   "cell_type": "code",
   "execution_count": null,
   "id": "enabling-northern",
   "metadata": {},
   "outputs": [],
   "source": [
    "df[df[\"date\"]=='2021-07-30'].to_csv(r\"\",index=False)"
   ]
  },
  {
   "cell_type": "code",
   "execution_count": 4,
   "id": "olympic-given",
   "metadata": {},
   "outputs": [],
   "source": [
    "aaa=set(pd.read_csv(r\"\")['stock_id'])"
   ]
  },
  {
   "cell_type": "code",
   "execution_count": null,
   "id": "sixth-demographic",
   "metadata": {},
   "outputs": [],
   "source": []
  },
  {
   "cell_type": "markdown",
   "id": "fancy-thanks",
   "metadata": {},
   "source": [
    "---"
   ]
  },
  {
   "cell_type": "markdown",
   "id": "blond-optimum",
   "metadata": {},
   "source": [
    "###　欄數不同 debug\n"
   ]
  },
  {
   "cell_type": "code",
   "execution_count": null,
   "id": "mature-biography",
   "metadata": {},
   "outputs": [],
   "source": [
    "os.listdir(r\"\")"
   ]
  },
  {
   "cell_type": "code",
   "execution_count": null,
   "id": "numerical-entertainment",
   "metadata": {},
   "outputs": [],
   "source": [
    "df=pd.read_csv(r\"\")"
   ]
  },
  {
   "cell_type": "code",
   "execution_count": null,
   "id": "recreational-belly",
   "metadata": {},
   "outputs": [],
   "source": [
    "df_1=df[df['盈餘分派_年度']==2020]"
   ]
  },
  {
   "cell_type": "code",
   "execution_count": null,
   "id": "expensive-attendance",
   "metadata": {},
   "outputs": [],
   "source": [
    "df_2=df_1.iloc[:,[0,1,4,7,13,15,16]]"
   ]
  },
  {
   "cell_type": "code",
   "execution_count": null,
   "id": "modern-arbitration",
   "metadata": {},
   "outputs": [],
   "source": [
    "a=set(df_2['公司'])  # 殖利率公司數"
   ]
  },
  {
   "cell_type": "code",
   "execution_count": null,
   "id": "czech-boundary",
   "metadata": {},
   "outputs": [],
   "source": [
    "df_price = pd.read_csv(r\"\")"
   ]
  },
  {
   "cell_type": "code",
   "execution_count": null,
   "id": "another-french",
   "metadata": {},
   "outputs": [],
   "source": [
    "b=set(df_price['stock_id']) # 股價公司數"
   ]
  },
  {
   "cell_type": "code",
   "execution_count": null,
   "id": "portable-symposium",
   "metadata": {},
   "outputs": [],
   "source": [
    "dt = pd.read_csv(r\"\")"
   ]
  },
  {
   "cell_type": "code",
   "execution_count": null,
   "id": "innocent-preview",
   "metadata": {},
   "outputs": [],
   "source": [
    "c=set(dt[dt['year']==2020]['company_id']) # 正確數"
   ]
  },
  {
   "cell_type": "code",
   "execution_count": null,
   "id": "portuguese-ethnic",
   "metadata": {},
   "outputs": [],
   "source": [
    "a-c    ### 殖利率多哪些"
   ]
  },
  {
   "cell_type": "code",
   "execution_count": null,
   "id": "abstract-resident",
   "metadata": {
    "tags": []
   },
   "outputs": [],
   "source": [
    "aaa-c### 股價少那些"
   ]
  },
  {
   "cell_type": "code",
   "execution_count": null,
   "id": "terminal-entry",
   "metadata": {},
   "outputs": [],
   "source": []
  },
  {
   "cell_type": "code",
   "execution_count": null,
   "id": "divine-ranking",
   "metadata": {},
   "outputs": [],
   "source": [
    "yii=[5236, 9103, 9105, 9136, 9188, 910322, 910861, 911608, 911622]\n",
    "for iyy in yii:\n",
    "    df_2.drop(df_2[df_2[\"公司\"]==iyy].index,inplace=True)"
   ]
  },
  {
   "cell_type": "code",
   "execution_count": null,
   "id": "subjective-vehicle",
   "metadata": {},
   "outputs": [],
   "source": [
    "df_2.to_csv(r\"\",index=False)"
   ]
  },
  {
   "cell_type": "code",
   "execution_count": null,
   "id": "binary-venture",
   "metadata": {},
   "outputs": [],
   "source": []
  },
  {
   "cell_type": "markdown",
   "id": "democratic-lincoln",
   "metadata": {},
   "source": [
    "---"
   ]
  },
  {
   "cell_type": "markdown",
   "id": "ready-reflection",
   "metadata": {},
   "source": [
    "## 股價 殖利率並表"
   ]
  },
  {
   "cell_type": "code",
   "execution_count": null,
   "id": "organic-monaco",
   "metadata": {},
   "outputs": [],
   "source": [
    "import os\n",
    "import pandas as pd"
   ]
  },
  {
   "cell_type": "code",
   "execution_count": null,
   "id": "mathematical-blocking",
   "metadata": {},
   "outputs": [],
   "source": [
    "os.listdir(r\"\")"
   ]
  },
  {
   "cell_type": "code",
   "execution_count": null,
   "id": "eligible-lying",
   "metadata": {},
   "outputs": [],
   "source": [
    "df1=pd.read_csv(r\"\").sort_values(\"公司\").rename(columns={\"公司\":\"stock_id\"})"
   ]
  },
  {
   "cell_type": "code",
   "execution_count": null,
   "id": "smooth-clearance",
   "metadata": {},
   "outputs": [],
   "source": [
    "df2=pd.read_csv(r\"\").sort_values(\"stock_id\")"
   ]
  },
  {
   "cell_type": "code",
   "execution_count": null,
   "id": "textile-thailand",
   "metadata": {},
   "outputs": [],
   "source": [
    "df3=df1.merge(df2,on=\"stock_id\",how='outer')"
   ]
  },
  {
   "cell_type": "code",
   "execution_count": null,
   "id": "enabling-ecuador",
   "metadata": {},
   "outputs": [],
   "source": [
    "df3.to_csv(r\"\",index=False)"
   ]
  },
  {
   "cell_type": "markdown",
   "id": "honest-vessel",
   "metadata": {},
   "source": [
    "---"
   ]
  },
  {
   "cell_type": "markdown",
   "id": "nervous-trash",
   "metadata": {},
   "source": [
    "### 現金殖利率公式=（現金股利／除權息前一日股價）"
   ]
  },
  {
   "cell_type": "code",
   "execution_count": null,
   "id": "exceptional-development",
   "metadata": {},
   "outputs": [],
   "source": [
    "import os\n",
    "import pandas as pd"
   ]
  },
  {
   "cell_type": "code",
   "execution_count": null,
   "id": "narrative-specification",
   "metadata": {},
   "outputs": [],
   "source": [
    "os.listdir(r\"\")"
   ]
  },
  {
   "cell_type": "code",
   "execution_count": null,
   "id": "fundamental-bryan",
   "metadata": {},
   "outputs": [],
   "source": [
    "df.columns"
   ]
  },
  {
   "cell_type": "code",
   "execution_count": null,
   "id": "phantom-bunny",
   "metadata": {},
   "outputs": [],
   "source": [
    "df=pd.read_csv(r\"\")"
   ]
  },
  {
   "cell_type": "code",
   "execution_count": null,
   "id": "afraid-championship",
   "metadata": {},
   "outputs": [],
   "source": [
    "### 現金殖利率公式=（現金股利／除權息前一日股價）"
   ]
  },
  {
   "cell_type": "code",
   "execution_count": null,
   "id": "dietary-barrel",
   "metadata": {},
   "outputs": [],
   "source": [
    "df[\"現金殖利率\"]=(df[\"累計_現金股利(元)\"]/df[\"close\"]).map(lambda x: '%.2f%%' % (x*100))  ### 現金殖利率 "
   ]
  },
  {
   "cell_type": "markdown",
   "id": "guided-ecology",
   "metadata": {},
   "source": [
    "## 除權息參考價公式 = [ 除權除息前一日收盤價-現金股利 ] ÷ [ 1+（股票股利÷10）]"
   ]
  },
  {
   "cell_type": "code",
   "execution_count": null,
   "id": "broadband-stockholm",
   "metadata": {},
   "outputs": [],
   "source": [
    "df['除權息參考價']=(df['close']-df['累計_現金股利(元)'])/(1+(df['盈餘配股(元)']/10))     "
   ]
  },
  {
   "cell_type": "code",
   "execution_count": null,
   "id": "accomplished-detroit",
   "metadata": {},
   "outputs": [],
   "source": [
    "df['配股價值']=df['盈餘配股(元)']/df['除權息參考價']"
   ]
  },
  {
   "cell_type": "code",
   "execution_count": null,
   "id": "quantitative-serial",
   "metadata": {},
   "outputs": [],
   "source": [
    "df['全部的股利']=df[\"累計_現金股利(元)\"]+df[\"配股價值\"]"
   ]
  },
  {
   "cell_type": "markdown",
   "id": "intermediate-intro",
   "metadata": {},
   "source": [
    "還原殖利率公式=（現金股利+配股價值）／除權息前一日股價"
   ]
  },
  {
   "cell_type": "code",
   "execution_count": null,
   "id": "robust-intervention",
   "metadata": {},
   "outputs": [],
   "source": [
    "df[\"還原殖利率\"]=(df['全部的股利']/df[\"close\"]).map(lambda x: '%.2f%%' % (x*100))"
   ]
  },
  {
   "cell_type": "code",
   "execution_count": null,
   "id": "mathematical-annual",
   "metadata": {
    "tags": []
   },
   "outputs": [],
   "source": [
    "df_head_50=df.sort_values('還原殖利率',ascending=False)[['stock_id','簡稱',\"還原殖利率\"]].head(50)"
   ]
  },
  {
   "cell_type": "code",
   "execution_count": null,
   "id": "maritime-account",
   "metadata": {},
   "outputs": [],
   "source": [
    "df_all=df[[\"stock_id\",\"簡稱\",\"現金殖利率\",\"還原殖利率\"]]"
   ]
  },
  {
   "cell_type": "markdown",
   "id": "becoming-senior",
   "metadata": {},
   "source": [
    "---"
   ]
  },
  {
   "cell_type": "code",
   "execution_count": null,
   "id": "northern-providence",
   "metadata": {},
   "outputs": [],
   "source": [
    "df_head_50.to_csv(r\"\",index=False)"
   ]
  },
  {
   "cell_type": "code",
   "execution_count": null,
   "id": "medium-combat",
   "metadata": {},
   "outputs": [],
   "source": [
    "df_all.to_csv(r\"\",index=False)"
   ]
  },
  {
   "cell_type": "code",
   "execution_count": null,
   "id": "oriental-calibration",
   "metadata": {},
   "outputs": [],
   "source": [
    "將CSV存成JSON"
   ]
  },
  {
   "cell_type": "code",
   "execution_count": 8,
   "id": "growing-egyptian",
   "metadata": {},
   "outputs": [],
   "source": [
    "import json\n",
    "import pandas as pd"
   ]
  },
  {
   "cell_type": "code",
   "execution_count": 9,
   "id": "promotional-programmer",
   "metadata": {},
   "outputs": [],
   "source": [
    "df=pd.read_csv(r\"\")"
   ]
  },
  {
   "cell_type": "code",
   "execution_count": 10,
   "id": "blank-scotland",
   "metadata": {},
   "outputs": [],
   "source": [
    "result=df.to_json(orient=\"records\",force_ascii=False)"
   ]
  },
  {
   "cell_type": "code",
   "execution_count": 11,
   "id": "adaptive-purple",
   "metadata": {},
   "outputs": [],
   "source": [
    "fp=open(rf\"\",\"w\",encoding='UTF-8')\n",
    "fp.write(result)\n",
    "fp.close()"
   ]
  },
  {
   "cell_type": "code",
   "execution_count": null,
   "id": "international-botswana",
   "metadata": {},
   "outputs": [],
   "source": []
  },
  {
   "cell_type": "code",
   "execution_count": null,
   "id": "italian-texture",
   "metadata": {},
   "outputs": [],
   "source": []
  },
  {
   "cell_type": "code",
   "execution_count": null,
   "id": "adjusted-german",
   "metadata": {},
   "outputs": [],
   "source": []
  },
  {
   "cell_type": "code",
   "execution_count": null,
   "id": "rental-automation",
   "metadata": {},
   "outputs": [],
   "source": []
  },
  {
   "cell_type": "code",
   "execution_count": null,
   "id": "significant-limitation",
   "metadata": {},
   "outputs": [],
   "source": []
  },
  {
   "cell_type": "markdown",
   "id": "graphic-vancouver",
   "metadata": {},
   "source": [
    "### 拆json"
   ]
  },
  {
   "cell_type": "code",
   "execution_count": null,
   "id": "instructional-corps",
   "metadata": {},
   "outputs": [],
   "source": [
    "import numpy as np\n",
    "import pandas as pd"
   ]
  },
  {
   "cell_type": "code",
   "execution_count": null,
   "id": "alive-spyware",
   "metadata": {},
   "outputs": [],
   "source": [
    "list(data3.columns)"
   ]
  },
  {
   "cell_type": "code",
   "execution_count": null,
   "id": "sapphire-florist",
   "metadata": {},
   "outputs": [],
   "source": [
    "a=[0,50,100,150,200,250,300,350]\n",
    "b=[50,100,150,200,250,300,350,400]\n",
    "c=['稅前淨利', '每股盈餘', '資產總額', '負債總額', '每股淨值', '累計_現金股利', '盈餘配股', '股利合計']\n",
    "for i,j,k in zip(a,b,c):\n",
    "    data3=pd.read_json(r\"C:\\Users\\Student\\Desktop\\20年資料分析\\資料轉json\\排行榜.json\").iloc[i:j,:]\n",
    "    data4=data3.dropna(axis=1)\n",
    "    result = data4.to_json(orient=\"records\",force_ascii=False)\n",
    "    fp=open(rf\"C:\\Users\\Student\\Desktop\\20年資料分析\\資料轉json\\{k}.json\",\"w\",encoding='UTF-8')\n",
    "    fp.write(result)\n",
    "    fp.close()\n",
    "    "
   ]
  },
  {
   "cell_type": "code",
   "execution_count": null,
   "id": "informative-hours",
   "metadata": {
    "tags": []
   },
   "outputs": [],
   "source": [
    "data4"
   ]
  },
  {
   "cell_type": "code",
   "execution_count": null,
   "id": "handed-chicago",
   "metadata": {},
   "outputs": [],
   "source": [
    "\n",
    "for i in range(0,401,50):\n",
    "#     print(i)\n",
    "    if i == 0:\n",
    "        data3=pd.read_json(r\"C:\\Users\\Student\\Desktop\\20年資料分析\\資料轉json\\排行榜.json\").iloc[0:50,:].dropna(axis=1)\n",
    "        print(data3)\n",
    "    else:\n",
    "        data3=pd.read_json(r\"C:\\Users\\Student\\Desktop\\20年資料分析\\資料轉json\\排行榜.json\").iloc[i:i*2,:].dropna(axis=1)\n",
    "        print(data3)"
   ]
  },
  {
   "cell_type": "code",
   "execution_count": null,
   "id": "characteristic-raising",
   "metadata": {},
   "outputs": [],
   "source": []
  }
 ],
 "metadata": {
  "kernelspec": {
   "display_name": "Python 3",
   "language": "python",
   "name": "python3"
  },
  "language_info": {
   "codemirror_mode": {
    "name": "ipython",
    "version": 3
   },
   "file_extension": ".py",
   "mimetype": "text/x-python",
   "name": "python",
   "nbconvert_exporter": "python",
   "pygments_lexer": "ipython3",
   "version": "3.9.2"
  }
 },
 "nbformat": 4,
 "nbformat_minor": 5
}
