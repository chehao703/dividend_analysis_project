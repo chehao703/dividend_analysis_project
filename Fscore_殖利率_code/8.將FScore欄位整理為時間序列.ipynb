{
 "cells": [
  {
   "cell_type": "code",
   "execution_count": 1,
   "id": "announced-nightmare",
   "metadata": {},
   "outputs": [],
   "source": [
    "import pandas as pd\n",
    "from functools import reduce"
   ]
  },
  {
   "cell_type": "code",
   "execution_count": null,
   "id": "wrapped-wealth",
   "metadata": {
    "tags": []
   },
   "outputs": [],
   "source": [
    "df"
   ]
  },
  {
   "cell_type": "code",
   "execution_count": 2,
   "id": "temporal-horror",
   "metadata": {},
   "outputs": [],
   "source": [
    "df=pd.read_csv(r\"\")"
   ]
  },
  {
   "cell_type": "code",
   "execution_count": 3,
   "id": "clinical-complexity",
   "metadata": {},
   "outputs": [
    {
     "name": "stdout",
     "output_type": "stream",
     "text": [
      "Unnamed: 0 0\n",
      "公司 1\n",
      "年 2\n",
      "f-score 3\n"
     ]
    }
   ],
   "source": [
    "for c,d in zip(df.columns,range(50)):\n",
    "    print(c,d)"
   ]
  },
  {
   "cell_type": "code",
   "execution_count": 4,
   "id": "brutal-economy",
   "metadata": {},
   "outputs": [],
   "source": [
    "df=df.drop(columns=['Unnamed: 0'])"
   ]
  },
  {
   "cell_type": "code",
   "execution_count": 5,
   "id": "exposed-catholic",
   "metadata": {},
   "outputs": [],
   "source": [
    "box=[]\n",
    "for i in df.groupby('年'):\n",
    "    box.append(i)"
   ]
  },
  {
   "cell_type": "code",
   "execution_count": 6,
   "id": "functional-crack",
   "metadata": {},
   "outputs": [],
   "source": [
    "# 空模\n",
    "null_model=pd.DataFrame()\n",
    "null_model['公司']=box[7][1]['公司']"
   ]
  },
  {
   "cell_type": "code",
   "execution_count": 7,
   "id": "arbitrary-practitioner",
   "metadata": {},
   "outputs": [],
   "source": [
    "y=range(2013,2021)\n",
    "z=range(8)\n",
    "for j,k in zip(y,z):  \n",
    "    null_model[f\"{j}\"]=box[int(f'{k}')][1][\"f-score\"]"
   ]
  },
  {
   "cell_type": "code",
   "execution_count": 8,
   "id": "interior-stone",
   "metadata": {
    "tags": []
   },
   "outputs": [],
   "source": [
    "df1=box[0][1][[\"公司\",\"f-score\"]].rename(columns={'f-score':'2013'})\n",
    "df2=box[1][1][[\"公司\",\"f-score\"]].rename(columns={'f-score':'2014'})\n",
    "df3=box[2][1][[\"公司\",\"f-score\"]].rename(columns={'f-score':'2015'})\n",
    "df4=box[3][1][[\"公司\",\"f-score\"]].rename(columns={'f-score':'2016'})\n",
    "df5=box[4][1][[\"公司\",\"f-score\"]].rename(columns={'f-score':'2017'})\n",
    "df6=box[5][1][[\"公司\",\"f-score\"]].rename(columns={'f-score':'2018'})\n",
    "df7=box[6][1][[\"公司\",\"f-score\"]].rename(columns={'f-score':'2019'})\n",
    "df8=box[7][1][['公司','f-score']].rename(columns={'f-score':'2020'})"
   ]
  },
  {
   "cell_type": "code",
   "execution_count": 9,
   "id": "rental-medicare",
   "metadata": {},
   "outputs": [],
   "source": [
    "data_frames=[df1,df2,df3,df4,df5,df6,df7,df8]\n",
    "df_merged = reduce(lambda  left,right: pd.merge(left,right,on=['公司'],how='outer'), data_frames)"
   ]
  },
  {
   "cell_type": "code",
   "execution_count": 10,
   "id": "nutritional-macintosh",
   "metadata": {},
   "outputs": [],
   "source": [
    "df_merged.sort_values('公司').to_csv(r\"\",encoding='utf-8',index=False)"
   ]
  },
  {
   "cell_type": "code",
   "execution_count": null,
   "id": "tested-courage",
   "metadata": {},
   "outputs": [],
   "source": []
  },
  {
   "cell_type": "code",
   "execution_count": null,
   "id": "comprehensive-sustainability",
   "metadata": {},
   "outputs": [],
   "source": []
  }
 ],
 "metadata": {
  "kernelspec": {
   "display_name": "Python 3",
   "language": "python",
   "name": "python3"
  },
  "language_info": {
   "codemirror_mode": {
    "name": "ipython",
    "version": 3
   },
   "file_extension": ".py",
   "mimetype": "text/x-python",
   "name": "python",
   "nbconvert_exporter": "python",
   "pygments_lexer": "ipython3",
   "version": "3.9.2"
  }
 },
 "nbformat": 4,
 "nbformat_minor": 5
}
