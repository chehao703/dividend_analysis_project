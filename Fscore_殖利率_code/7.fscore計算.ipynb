{
 "cells": [
  {
   "cell_type": "markdown",
   "id": "drawn-intent",
   "metadata": {},
   "source": [
    "[一般](#一般)"
   ]
  },
  {
   "cell_type": "markdown",
   "id": "dimensional-magnet",
   "metadata": {},
   "source": [
    "[銀行](#銀行)"
   ]
  },
  {
   "cell_type": "markdown",
   "id": "prescribed-adapter",
   "metadata": {},
   "source": [
    "[金控](#金控)"
   ]
  },
  {
   "cell_type": "markdown",
   "id": "necessary-proportion",
   "metadata": {},
   "source": [
    "[保險](#保險)"
   ]
  },
  {
   "cell_type": "markdown",
   "id": "occupational-football",
   "metadata": {},
   "source": [
    "[證券](#證券)"
   ]
  },
  {
   "cell_type": "markdown",
   "id": "vital-bishop",
   "metadata": {},
   "source": [
    "---"
   ]
  },
  {
   "cell_type": "markdown",
   "id": "impaired-angel",
   "metadata": {},
   "source": [
    "# 一般"
   ]
  },
  {
   "cell_type": "code",
   "execution_count": 1,
   "id": "pleasant-complexity",
   "metadata": {},
   "outputs": [],
   "source": [
    "import pandas as pd\n",
    "import numpy as np"
   ]
  },
  {
   "cell_type": "code",
   "execution_count": null,
   "id": "western-access",
   "metadata": {},
   "outputs": [],
   "source": [
    "df=pd.read_csv(r\"\")"
   ]
  },
  {
   "cell_type": "code",
   "execution_count": null,
   "id": "artistic-hunter",
   "metadata": {},
   "outputs": [],
   "source": [
    "df = df.rename(columns={'  股本':'股本'})\n"
   ]
  },
  {
   "cell_type": "markdown",
   "id": "played-cancellation",
   "metadata": {},
   "source": [
    "欄名稱"
   ]
  },
  {
   "cell_type": "code",
   "execution_count": null,
   "id": "sharing-manner",
   "metadata": {
    "tags": []
   },
   "outputs": [],
   "source": [
    "dict={}\n",
    "a=df.columns\n",
    "b=range(50)\n",
    "for c,d in zip(a,b):\n",
    "    dict.update({c:d})\n",
    "dict"
   ]
  },
  {
   "cell_type": "markdown",
   "id": "french-mailman",
   "metadata": {},
   "source": [
    "---"
   ]
  },
  {
   "cell_type": "markdown",
   "id": "excellent-stomach",
   "metadata": {},
   "source": [
    "1.ROA>0"
   ]
  },
  {
   "cell_type": "code",
   "execution_count": null,
   "id": "prompt-milan",
   "metadata": {},
   "outputs": [],
   "source": [
    "z1=df.groupby('公司')['資產總額']"
   ]
  },
  {
   "cell_type": "code",
   "execution_count": null,
   "id": "limiting-crash",
   "metadata": {},
   "outputs": [],
   "source": [
    "df['期初+期末資產平均']=(df['資產總額']+z1.shift(1))/2"
   ]
  },
  {
   "cell_type": "code",
   "execution_count": null,
   "id": "active-arthritis",
   "metadata": {},
   "outputs": [],
   "source": [
    "df['ROA']=df['本期稅後純益']/df['期初+期末資產平均']"
   ]
  },
  {
   "cell_type": "code",
   "execution_count": null,
   "id": "inappropriate-passenger",
   "metadata": {},
   "outputs": [],
   "source": [
    "df['1.ROA>0']=np.where(df['ROA']>0, 1,0)"
   ]
  },
  {
   "cell_type": "code",
   "execution_count": null,
   "id": "historic-league",
   "metadata": {},
   "outputs": [],
   "source": []
  },
  {
   "cell_type": "markdown",
   "id": "concerned-humanitarian",
   "metadata": {},
   "source": [
    "---"
   ]
  },
  {
   "cell_type": "markdown",
   "id": "elegant-driver",
   "metadata": {},
   "source": [
    "2.今年的ROA >去年ROA"
   ]
  },
  {
   "cell_type": "code",
   "execution_count": null,
   "id": "considerable-mississippi",
   "metadata": {},
   "outputs": [],
   "source": [
    "z2=df.groupby('公司')['ROA']"
   ]
  },
  {
   "cell_type": "code",
   "execution_count": null,
   "id": "arctic-rugby",
   "metadata": {},
   "outputs": [],
   "source": [
    "df['今年ROA-去年ROA']=df['ROA']-z2.shift(1)"
   ]
  },
  {
   "cell_type": "code",
   "execution_count": null,
   "id": "digital-reserve",
   "metadata": {},
   "outputs": [],
   "source": [
    "df['2.(今年ROA-去年ROA)>0']=np.where(df['今年ROA-去年ROA']>0, 1,0)"
   ]
  },
  {
   "cell_type": "markdown",
   "id": "seven-grounds",
   "metadata": {},
   "source": [
    "---"
   ]
  },
  {
   "cell_type": "markdown",
   "id": "affiliated-country",
   "metadata": {},
   "source": [
    "3.今年的營業現金流>0"
   ]
  },
  {
   "cell_type": "code",
   "execution_count": null,
   "id": "three-playback",
   "metadata": {},
   "outputs": [],
   "source": [
    "df['3.今年的營業現金流>0']=np.where(df['來自營運之現金流量']>0, 1,0)"
   ]
  },
  {
   "cell_type": "markdown",
   "id": "after-deputy",
   "metadata": {},
   "source": [
    "---"
   ]
  },
  {
   "cell_type": "markdown",
   "id": "seven-cartoon",
   "metadata": {},
   "source": [
    "4.營業現金流>稅後淨利"
   ]
  },
  {
   "cell_type": "code",
   "execution_count": null,
   "id": "choice-affiliation",
   "metadata": {},
   "outputs": [],
   "source": [
    "df['4.營業現金流>稅後淨利']=np.where(df['來自營運之現金流量']>df['本期稅後純益'], 1,0)"
   ]
  },
  {
   "cell_type": "markdown",
   "id": "wooden-prophet",
   "metadata": {},
   "source": [
    "---"
   ]
  },
  {
   "cell_type": "markdown",
   "id": "unlike-height",
   "metadata": {},
   "source": [
    "5.今年度的長期負債金額 < 上一年度"
   ]
  },
  {
   "cell_type": "code",
   "execution_count": null,
   "id": "occupational-transaction",
   "metadata": {},
   "outputs": [],
   "source": [
    "df['長期負債總合']=df.iloc[:,8:13].sum(axis=1)"
   ]
  },
  {
   "cell_type": "code",
   "execution_count": null,
   "id": "choice-mistress",
   "metadata": {},
   "outputs": [],
   "source": [
    "z5=df.groupby('公司')['長期負債總合']"
   ]
  },
  {
   "cell_type": "code",
   "execution_count": null,
   "id": "unlike-legislation",
   "metadata": {},
   "outputs": [],
   "source": [
    "df['今年-去年的長期負債金額']=df['長期負債總合']-z5.shift(1)"
   ]
  },
  {
   "cell_type": "code",
   "execution_count": null,
   "id": "communist-charge",
   "metadata": {},
   "outputs": [],
   "source": [
    "df['5.今年度的長期負債金額< 上一年度']=np.where(df['今年-去年的長期負債金額']<0,1,0)"
   ]
  },
  {
   "cell_type": "markdown",
   "id": "cubic-pathology",
   "metadata": {},
   "source": [
    "---"
   ]
  },
  {
   "cell_type": "markdown",
   "id": "taken-warren",
   "metadata": {},
   "source": [
    "6.今年度的流動比率 > 上一年度"
   ]
  },
  {
   "cell_type": "code",
   "execution_count": null,
   "id": "stopped-recall",
   "metadata": {},
   "outputs": [],
   "source": [
    "z6=df.groupby('公司')['流動比率']"
   ]
  },
  {
   "cell_type": "code",
   "execution_count": null,
   "id": "latter-lingerie",
   "metadata": {},
   "outputs": [],
   "source": [
    "df['今年-去年的流動比率']=df['流動比率']-z6.shift(1)"
   ]
  },
  {
   "cell_type": "code",
   "execution_count": null,
   "id": "accepted-overhead",
   "metadata": {},
   "outputs": [],
   "source": [
    "df['6.今年度的流動比率 > 上一年度']=np.where(df['今年-去年的流動比率']>0,1,0)"
   ]
  },
  {
   "cell_type": "markdown",
   "id": "curious-temperature",
   "metadata": {},
   "source": [
    "---"
   ]
  },
  {
   "cell_type": "markdown",
   "id": "cooperative-syracuse",
   "metadata": {},
   "source": [
    "7.上一年度沒有發行新股"
   ]
  },
  {
   "cell_type": "code",
   "execution_count": null,
   "id": "induced-alignment",
   "metadata": {},
   "outputs": [],
   "source": [
    "z7=df.groupby('公司')['股本']"
   ]
  },
  {
   "cell_type": "code",
   "execution_count": null,
   "id": "celtic-ontario",
   "metadata": {},
   "outputs": [],
   "source": [
    "df['今年-去年的股本']=df['股本']-z7.shift(1)"
   ]
  },
  {
   "cell_type": "code",
   "execution_count": null,
   "id": "harmful-grammar",
   "metadata": {},
   "outputs": [],
   "source": [
    "df['7.上一年度沒有發行新股']=np.where(df['今年-去年的股本']<0,1,0)"
   ]
  },
  {
   "cell_type": "markdown",
   "id": "expected-vector",
   "metadata": {},
   "source": [
    "---"
   ]
  },
  {
   "cell_type": "markdown",
   "id": "marine-closer",
   "metadata": {},
   "source": [
    "8.今年度的毛利率 > 上一年度"
   ]
  },
  {
   "cell_type": "code",
   "execution_count": null,
   "id": "dietary-rings",
   "metadata": {},
   "outputs": [],
   "source": [
    "z8=df.groupby('公司')['營業毛利率']"
   ]
  },
  {
   "cell_type": "code",
   "execution_count": null,
   "id": "younger-orientation",
   "metadata": {},
   "outputs": [],
   "source": [
    "df['今年-去年毛利率']=df['營業毛利率']-z8.shift(1)"
   ]
  },
  {
   "cell_type": "code",
   "execution_count": null,
   "id": "sustainable-bacon",
   "metadata": {},
   "outputs": [],
   "source": [
    "df['8.今年度的毛利率 > 上一年度']=np.where(df['今年-去年毛利率']>0,1,0)"
   ]
  },
  {
   "cell_type": "markdown",
   "id": "orange-accident",
   "metadata": {},
   "source": [
    "---"
   ]
  },
  {
   "cell_type": "markdown",
   "id": "wicked-shopper",
   "metadata": {},
   "source": [
    "9.今年度的資產週轉率 > 上一年度"
   ]
  },
  {
   "cell_type": "code",
   "execution_count": null,
   "id": "aquatic-closure",
   "metadata": {},
   "outputs": [],
   "source": [
    "z9=df.groupby('公司')['總資產週轉次數']"
   ]
  },
  {
   "cell_type": "code",
   "execution_count": null,
   "id": "molecular-little",
   "metadata": {},
   "outputs": [],
   "source": [
    "df['今年-去年資產週轉率']=df['總資產週轉次數']-z9.shift(1)"
   ]
  },
  {
   "cell_type": "code",
   "execution_count": null,
   "id": "charged-northwest",
   "metadata": {},
   "outputs": [],
   "source": [
    "df['9.今年度的資產週轉率 > 上一年度']=np.where(df['今年-去年資產週轉率']>0,1,0)"
   ]
  },
  {
   "cell_type": "markdown",
   "id": "radical-scott",
   "metadata": {},
   "source": [
    "---"
   ]
  },
  {
   "cell_type": "code",
   "execution_count": null,
   "id": "eastern-philippines",
   "metadata": {},
   "outputs": [],
   "source": [
    "dict={}\n",
    "a=df.columns\n",
    "b=range(50)\n",
    "for c,d in zip(a,b):\n",
    "    dict.update({c:d})\n",
    "dict"
   ]
  },
  {
   "cell_type": "code",
   "execution_count": null,
   "id": "protecting-secondary",
   "metadata": {},
   "outputs": [],
   "source": [
    "df['f-score']=df.iloc[:,[25,27,28,29,32,34,36,38,40]].sum(axis=1)"
   ]
  },
  {
   "cell_type": "code",
   "execution_count": null,
   "id": "enhanced-rouge",
   "metadata": {
    "tags": []
   },
   "outputs": [],
   "source": [
    "df.iloc[:,[0,1,2,25,27,28,29,32,34,36,38,40]].to_csv(r\"\")"
   ]
  },
  {
   "cell_type": "code",
   "execution_count": null,
   "id": "protected-gospel",
   "metadata": {},
   "outputs": [],
   "source": [
    "df[['公司','年','f-score']].to_csv(r\"\")"
   ]
  },
  {
   "cell_type": "code",
   "execution_count": null,
   "id": "surprising-scenario",
   "metadata": {},
   "outputs": [],
   "source": []
  },
  {
   "cell_type": "markdown",
   "id": "animated-expert",
   "metadata": {},
   "source": [
    "---"
   ]
  },
  {
   "cell_type": "markdown",
   "id": "perfect-speed",
   "metadata": {},
   "source": [
    "# 銀行"
   ]
  },
  {
   "cell_type": "markdown",
   "id": "olympic-queen",
   "metadata": {},
   "source": [
    "---"
   ]
  },
  {
   "cell_type": "code",
   "execution_count": null,
   "id": "flying-fiction",
   "metadata": {},
   "outputs": [],
   "source": [
    "import pandas as pd\n",
    "import numpy as np"
   ]
  },
  {
   "cell_type": "code",
   "execution_count": null,
   "id": "subsequent-exploration",
   "metadata": {},
   "outputs": [],
   "source": [
    "df=pd.read_csv(r\"\")"
   ]
  },
  {
   "cell_type": "code",
   "execution_count": null,
   "id": "continuous-edition",
   "metadata": {
    "tags": []
   },
   "outputs": [],
   "source": [
    "dict={}\n",
    "a=df.columns\n",
    "b=range(50)\n",
    "for c,d in zip(a,b):\n",
    "    dict.update({c:d})\n",
    "dict"
   ]
  },
  {
   "cell_type": "code",
   "execution_count": null,
   "id": "described-lambda",
   "metadata": {},
   "outputs": [],
   "source": [
    "df = df.rename(columns={'  股本':'股本'})\n"
   ]
  },
  {
   "cell_type": "markdown",
   "id": "interior-champion",
   "metadata": {},
   "source": [
    "欄名稱"
   ]
  },
  {
   "cell_type": "markdown",
   "id": "divine-carnival",
   "metadata": {},
   "source": [
    "1.ROA>0"
   ]
  },
  {
   "cell_type": "code",
   "execution_count": null,
   "id": "proprietary-bangladesh",
   "metadata": {},
   "outputs": [],
   "source": [
    "z1=df.groupby('公司')['資產總額']"
   ]
  },
  {
   "cell_type": "code",
   "execution_count": null,
   "id": "unavailable-population",
   "metadata": {},
   "outputs": [],
   "source": [
    "df['期初+期末資產平均']=(df['資產總額']+z1.shift(1))/2"
   ]
  },
  {
   "cell_type": "code",
   "execution_count": null,
   "id": "prospective-chapter",
   "metadata": {},
   "outputs": [],
   "source": [
    "df['ROA']=df['本期稅後純益']/df['期初+期末資產平均']"
   ]
  },
  {
   "cell_type": "code",
   "execution_count": null,
   "id": "unlike-rouge",
   "metadata": {},
   "outputs": [],
   "source": [
    "df['1.ROA>0']=np.where(df['ROA']>0, 1,0)"
   ]
  },
  {
   "cell_type": "code",
   "execution_count": null,
   "id": "threatened-cartoon",
   "metadata": {},
   "outputs": [],
   "source": []
  },
  {
   "cell_type": "markdown",
   "id": "scenic-piano",
   "metadata": {},
   "source": [
    "---"
   ]
  },
  {
   "cell_type": "markdown",
   "id": "single-design",
   "metadata": {},
   "source": [
    "2.今年的ROA >去年ROA"
   ]
  },
  {
   "cell_type": "code",
   "execution_count": null,
   "id": "considered-chemical",
   "metadata": {},
   "outputs": [],
   "source": [
    "z2=df.groupby('公司')['ROA']"
   ]
  },
  {
   "cell_type": "code",
   "execution_count": null,
   "id": "legitimate-picking",
   "metadata": {},
   "outputs": [],
   "source": [
    "df['今年ROA-去年ROA']=df['ROA']-z2.shift(1)"
   ]
  },
  {
   "cell_type": "code",
   "execution_count": null,
   "id": "psychological-robin",
   "metadata": {},
   "outputs": [],
   "source": [
    "df['2.(今年ROA-去年ROA)>0']=np.where(df['今年ROA-去年ROA']>0, 1,0)"
   ]
  },
  {
   "cell_type": "markdown",
   "id": "discrete-september",
   "metadata": {},
   "source": [
    "---"
   ]
  },
  {
   "cell_type": "markdown",
   "id": "therapeutic-scale",
   "metadata": {},
   "source": [
    "3.今年的營業現金流>0"
   ]
  },
  {
   "cell_type": "code",
   "execution_count": null,
   "id": "certified-blind",
   "metadata": {},
   "outputs": [],
   "source": [
    "df['3.今年的營業現金流>0']=np.where(df['來自營運之現金流量']>0, 1,0)"
   ]
  },
  {
   "cell_type": "markdown",
   "id": "manual-cambridge",
   "metadata": {},
   "source": [
    "---"
   ]
  },
  {
   "cell_type": "markdown",
   "id": "weighted-bonus",
   "metadata": {},
   "source": [
    "4.營業現金流>稅後淨利"
   ]
  },
  {
   "cell_type": "code",
   "execution_count": null,
   "id": "tender-collar",
   "metadata": {},
   "outputs": [],
   "source": [
    "df['4.營業現金流>稅後淨利']=np.where(df['來自營運之現金流量']>df['本期稅後純益'], 1,0)"
   ]
  },
  {
   "cell_type": "markdown",
   "id": "convenient-dublin",
   "metadata": {},
   "source": [
    "---"
   ]
  },
  {
   "cell_type": "markdown",
   "id": "agreed-administration",
   "metadata": {},
   "source": [
    "5.今年度的長期負債金額 < 上一年度"
   ]
  },
  {
   "cell_type": "code",
   "execution_count": null,
   "id": "demanding-illustration",
   "metadata": {},
   "outputs": [],
   "source": [
    "z5=df.groupby('公司')['槓桿比率']"
   ]
  },
  {
   "cell_type": "code",
   "execution_count": null,
   "id": "comic-noise",
   "metadata": {},
   "outputs": [],
   "source": [
    "df['今年-去年的槓桿比率']=df['槓桿比率']-z5.shift(1)"
   ]
  },
  {
   "cell_type": "code",
   "execution_count": null,
   "id": "developed-metadata",
   "metadata": {},
   "outputs": [],
   "source": [
    "df['5.今年度的槓桿比率< 上一年度']=np.where(df['今年-去年的槓桿比率']<0,1,0)"
   ]
  },
  {
   "cell_type": "markdown",
   "id": "elect-billion",
   "metadata": {},
   "source": [
    "---"
   ]
  },
  {
   "cell_type": "markdown",
   "id": "conscious-dining",
   "metadata": {},
   "source": [
    "6.今年度的流動比率 > 上一年度   --------------------銀行沒有-----------------------"
   ]
  },
  {
   "cell_type": "code",
   "execution_count": null,
   "id": "second-despite",
   "metadata": {
    "tags": []
   },
   "outputs": [],
   "source": [
    "z6=df.groupby('公司')['流動比率']"
   ]
  },
  {
   "cell_type": "code",
   "execution_count": null,
   "id": "forbidden-panama",
   "metadata": {},
   "outputs": [],
   "source": [
    "df['今年-去年的流動比率']=df['流動比率']-z6.shift(1)"
   ]
  },
  {
   "cell_type": "code",
   "execution_count": null,
   "id": "searching-malta",
   "metadata": {},
   "outputs": [],
   "source": [
    "df['6.今年度的流動比率 > 上一年度']=np.where(df['今年-去年的流動比率']>0,1,0)"
   ]
  },
  {
   "cell_type": "markdown",
   "id": "union-drill",
   "metadata": {},
   "source": [
    "---"
   ]
  },
  {
   "cell_type": "markdown",
   "id": "charming-index",
   "metadata": {},
   "source": [
    "7.上一年度沒有發行新股"
   ]
  },
  {
   "cell_type": "code",
   "execution_count": null,
   "id": "possible-wages",
   "metadata": {},
   "outputs": [],
   "source": [
    "z7=df.groupby('公司')['股本']"
   ]
  },
  {
   "cell_type": "code",
   "execution_count": null,
   "id": "traditional-martial",
   "metadata": {},
   "outputs": [],
   "source": [
    "df['今年-去年的股本']=df['股本']-z7.shift(1)"
   ]
  },
  {
   "cell_type": "code",
   "execution_count": null,
   "id": "furnished-flood",
   "metadata": {},
   "outputs": [],
   "source": [
    "df['7.上一年度沒有發行新股']=np.where(df['今年-去年的股本']<0,1,0)"
   ]
  },
  {
   "cell_type": "markdown",
   "id": "naughty-communications",
   "metadata": {},
   "source": [
    "---"
   ]
  },
  {
   "cell_type": "markdown",
   "id": "handmade-typing",
   "metadata": {},
   "source": [
    "8.今年度的毛利率 > 上一年度     ------------沒得算-----------------"
   ]
  },
  {
   "cell_type": "code",
   "execution_count": null,
   "id": "joint-norman",
   "metadata": {},
   "outputs": [],
   "source": [
    "df['營業成本總額']=df.iloc[:,12:22].sum(axis=1)"
   ]
  },
  {
   "cell_type": "code",
   "execution_count": null,
   "id": "postal-globe",
   "metadata": {
    "tags": []
   },
   "outputs": [],
   "source": [
    "df['今年-去年毛利率']=df['營業毛利率']-z8.shift(1)"
   ]
  },
  {
   "cell_type": "code",
   "execution_count": null,
   "id": "instrumental-ottawa",
   "metadata": {
    "tags": []
   },
   "outputs": [],
   "source": [
    "df['8.今年度的毛利率 > 上一年度']=np.where(df['今年-去年毛利率']>0,1,0)"
   ]
  },
  {
   "cell_type": "markdown",
   "id": "thermal-complexity",
   "metadata": {},
   "source": [
    "---"
   ]
  },
  {
   "cell_type": "markdown",
   "id": "minus-venezuela",
   "metadata": {},
   "source": [
    "9.今年度的資產週轉率 > 上一年度"
   ]
  },
  {
   "cell_type": "code",
   "execution_count": null,
   "id": "unique-winner",
   "metadata": {},
   "outputs": [],
   "source": [
    "z9=df.groupby('公司')['資產總額']"
   ]
  },
  {
   "cell_type": "code",
   "execution_count": null,
   "id": "changing-cookbook",
   "metadata": {},
   "outputs": [],
   "source": [
    "df['資產總額平均']=(df['資產總額']+z9.shift(1))/2"
   ]
  },
  {
   "cell_type": "code",
   "execution_count": null,
   "id": "floral-garage",
   "metadata": {},
   "outputs": [],
   "source": [
    "df['今年資產週轉率']=df['本期稅後純益']/df['資產總額平均']"
   ]
  },
  {
   "cell_type": "code",
   "execution_count": null,
   "id": "sharp-drill",
   "metadata": {},
   "outputs": [],
   "source": [
    "z91=df.groupby('公司')['今年資產週轉率']"
   ]
  },
  {
   "cell_type": "code",
   "execution_count": null,
   "id": "decimal-valley",
   "metadata": {},
   "outputs": [],
   "source": [
    "df['今年-去年資產週轉率']=(df['今年資產週轉率']+z91.shift(1))/2"
   ]
  },
  {
   "cell_type": "code",
   "execution_count": null,
   "id": "medieval-diamond",
   "metadata": {},
   "outputs": [],
   "source": [
    "df['9.今年度的資產週轉率 > 上一年度']=np.where(df['今年-去年資產週轉率']>0,1,0)"
   ]
  },
  {
   "cell_type": "markdown",
   "id": "material-frank",
   "metadata": {},
   "source": [
    "---"
   ]
  },
  {
   "cell_type": "code",
   "execution_count": null,
   "id": "reliable-junction",
   "metadata": {},
   "outputs": [],
   "source": [
    "dict={}\n",
    "a=df.columns\n",
    "b=range(50)\n",
    "for c,d in zip(a,b):\n",
    "    dict.update({c:d})\n",
    "dict"
   ]
  },
  {
   "cell_type": "code",
   "execution_count": null,
   "id": "flush-ballet",
   "metadata": {},
   "outputs": [],
   "source": [
    "df['f-score']=df.iloc[:,[25,27,28,29,31,33,38]].sum(axis=1)"
   ]
  },
  {
   "cell_type": "code",
   "execution_count": null,
   "id": "regulated-pension",
   "metadata": {
    "tags": []
   },
   "outputs": [],
   "source": [
    "df.iloc[:,[0,1,2,25,27,28,29,31,33,38]].to_csv(r\"\")"
   ]
  },
  {
   "cell_type": "code",
   "execution_count": null,
   "id": "thermal-guard",
   "metadata": {},
   "outputs": [],
   "source": [
    "df[['公司','年','f-score']].to_csv(r\"\")"
   ]
  },
  {
   "cell_type": "markdown",
   "id": "increased-minute",
   "metadata": {},
   "source": [
    "---"
   ]
  },
  {
   "cell_type": "markdown",
   "id": "magnetic-mounting",
   "metadata": {},
   "source": [
    "# 保險"
   ]
  },
  {
   "cell_type": "code",
   "execution_count": 2,
   "id": "casual-batch",
   "metadata": {},
   "outputs": [],
   "source": [
    "import pandas as pd\n",
    "import numpy as np"
   ]
  },
  {
   "cell_type": "code",
   "execution_count": 3,
   "id": "acoustic-ministry",
   "metadata": {},
   "outputs": [],
   "source": [
    "df=pd.read_csv(r\"\")"
   ]
  },
  {
   "cell_type": "code",
   "execution_count": null,
   "id": "premier-there",
   "metadata": {},
   "outputs": [],
   "source": [
    "df = df.rename(columns={'  股本':'股本'})\n"
   ]
  },
  {
   "cell_type": "markdown",
   "id": "noted-brave",
   "metadata": {},
   "source": [
    "欄名稱"
   ]
  },
  {
   "cell_type": "code",
   "execution_count": 4,
   "id": "centered-break",
   "metadata": {
    "tags": []
   },
   "outputs": [
    {
     "data": {
      "text/plain": [
       "{'公司': 0,\n",
       " '簡稱': 1,\n",
       " '年': 2,\n",
       " '月': 3,\n",
       " '季別': 4,\n",
       " '本期稅後純益': 5,\n",
       " '資產總額': 6,\n",
       " '來自營運之現金流量': 7,\n",
       " '股本': 8,\n",
       " '營業成本': 9,\n",
       " '總資產週轉次數': 10,\n",
       " '營業毛利率': 11,\n",
       " '負債總額': 12}"
      ]
     },
     "execution_count": 4,
     "metadata": {},
     "output_type": "execute_result"
    }
   ],
   "source": [
    "dict={}\n",
    "a=df.columns\n",
    "b=range(50)\n",
    "for c,d in zip(a,b):\n",
    "    dict.update({c:d})\n",
    "dict"
   ]
  },
  {
   "cell_type": "markdown",
   "id": "architectural-momentum",
   "metadata": {},
   "source": [
    "---"
   ]
  },
  {
   "cell_type": "markdown",
   "id": "proved-algeria",
   "metadata": {},
   "source": [
    "1.ROA>0"
   ]
  },
  {
   "cell_type": "code",
   "execution_count": null,
   "id": "existing-shame",
   "metadata": {},
   "outputs": [],
   "source": [
    "z1=df.groupby('公司')['資產總額']"
   ]
  },
  {
   "cell_type": "code",
   "execution_count": null,
   "id": "blocked-nowhere",
   "metadata": {},
   "outputs": [],
   "source": [
    "df['期初+期末資產平均']=(df['資產總額']+z1.shift(1))/2"
   ]
  },
  {
   "cell_type": "code",
   "execution_count": null,
   "id": "prime-minneapolis",
   "metadata": {},
   "outputs": [],
   "source": [
    "df['ROA']=df['本期稅後純益']/df['期初+期末資產平均']"
   ]
  },
  {
   "cell_type": "code",
   "execution_count": null,
   "id": "nervous-basement",
   "metadata": {},
   "outputs": [],
   "source": [
    "df['1.ROA>0']=np.where(df['ROA']>0, 1,0)"
   ]
  },
  {
   "cell_type": "code",
   "execution_count": null,
   "id": "experimental-perfume",
   "metadata": {},
   "outputs": [],
   "source": []
  },
  {
   "cell_type": "markdown",
   "id": "developed-limit",
   "metadata": {},
   "source": [
    "---"
   ]
  },
  {
   "cell_type": "markdown",
   "id": "entertaining-damage",
   "metadata": {},
   "source": [
    "2.今年的ROA >去年ROA"
   ]
  },
  {
   "cell_type": "code",
   "execution_count": null,
   "id": "hundred-lyric",
   "metadata": {},
   "outputs": [],
   "source": [
    "z2=df.groupby('公司')['ROA']"
   ]
  },
  {
   "cell_type": "code",
   "execution_count": null,
   "id": "expressed-toilet",
   "metadata": {},
   "outputs": [],
   "source": [
    "df['今年ROA-去年ROA']=df['ROA']-z2.shift(1)"
   ]
  },
  {
   "cell_type": "code",
   "execution_count": null,
   "id": "mighty-practice",
   "metadata": {},
   "outputs": [],
   "source": [
    "df['2.(今年ROA-去年ROA)>0']=np.where(df['今年ROA-去年ROA']>0, 1,0)"
   ]
  },
  {
   "cell_type": "markdown",
   "id": "saved-context",
   "metadata": {},
   "source": [
    "---"
   ]
  },
  {
   "cell_type": "markdown",
   "id": "conventional-confirmation",
   "metadata": {},
   "source": [
    "3.今年的營業現金流>0"
   ]
  },
  {
   "cell_type": "code",
   "execution_count": null,
   "id": "human-catalyst",
   "metadata": {},
   "outputs": [],
   "source": [
    "df['3.今年的營業現金流>0']=np.where(df['來自營運之現金流量']>0, 1,0)"
   ]
  },
  {
   "cell_type": "markdown",
   "id": "occasional-personality",
   "metadata": {},
   "source": [
    "---"
   ]
  },
  {
   "cell_type": "markdown",
   "id": "permanent-employment",
   "metadata": {},
   "source": [
    "4.營業現金流>稅後淨利"
   ]
  },
  {
   "cell_type": "code",
   "execution_count": null,
   "id": "present-dublin",
   "metadata": {},
   "outputs": [],
   "source": [
    "df['4.營業現金流>稅後淨利']=np.where(df['來自營運之現金流量']>df['本期稅後純益'], 1,0)"
   ]
  },
  {
   "cell_type": "markdown",
   "id": "advanced-characteristic",
   "metadata": {},
   "source": [
    "---"
   ]
  },
  {
   "cell_type": "markdown",
   "id": "therapeutic-extreme",
   "metadata": {},
   "source": [
    "5.今年度的長期負債金額 < 上一年度"
   ]
  },
  {
   "cell_type": "code",
   "execution_count": null,
   "id": "acoustic-florence",
   "metadata": {},
   "outputs": [],
   "source": [
    "z5=df.groupby('公司')['負債總額']"
   ]
  },
  {
   "cell_type": "code",
   "execution_count": null,
   "id": "coordinate-constraint",
   "metadata": {},
   "outputs": [],
   "source": [
    "df['今年-去年的負債總額']=df['負債總額']-z5.shift(1)"
   ]
  },
  {
   "cell_type": "code",
   "execution_count": null,
   "id": "middle-roads",
   "metadata": {},
   "outputs": [],
   "source": [
    "df['5.今年度的負債總額< 上一年度']=np.where(df['今年-去年的負債總額']<0,1,0)"
   ]
  },
  {
   "cell_type": "markdown",
   "id": "offshore-effort",
   "metadata": {},
   "source": [
    "---"
   ]
  },
  {
   "cell_type": "markdown",
   "id": "liquid-windsor",
   "metadata": {},
   "source": [
    "6.今年度的流動比率 > 上一年度    -----------nooooooooooooooo-----------"
   ]
  },
  {
   "cell_type": "code",
   "execution_count": null,
   "id": "assigned-proposal",
   "metadata": {
    "tags": []
   },
   "outputs": [],
   "source": [
    "z6=df.groupby('公司')['流動比率']"
   ]
  },
  {
   "cell_type": "code",
   "execution_count": null,
   "id": "durable-strategy",
   "metadata": {},
   "outputs": [],
   "source": [
    "df['今年-去年的流動比率']=df['流動比率']-z6.shift(1)"
   ]
  },
  {
   "cell_type": "code",
   "execution_count": null,
   "id": "removed-swedish",
   "metadata": {},
   "outputs": [],
   "source": [
    "df['6.今年度的流動比率 > 上一年度']=np.where(df['今年-去年的流動比率']>0,1,0)"
   ]
  },
  {
   "cell_type": "markdown",
   "id": "structured-parks",
   "metadata": {},
   "source": [
    "---"
   ]
  },
  {
   "cell_type": "markdown",
   "id": "solid-found",
   "metadata": {},
   "source": [
    "7.上一年度沒有發行新股"
   ]
  },
  {
   "cell_type": "code",
   "execution_count": null,
   "id": "about-throw",
   "metadata": {},
   "outputs": [],
   "source": [
    "z7=df.groupby('公司')['股本']"
   ]
  },
  {
   "cell_type": "code",
   "execution_count": null,
   "id": "rational-mixture",
   "metadata": {},
   "outputs": [],
   "source": [
    "df['今年-去年的股本']=df['股本']-z7.shift(1)"
   ]
  },
  {
   "cell_type": "code",
   "execution_count": null,
   "id": "informational-taxation",
   "metadata": {},
   "outputs": [],
   "source": [
    "df['7.上一年度沒有發行新股']=np.where(df['今年-去年的股本']<0,1,0)"
   ]
  },
  {
   "cell_type": "markdown",
   "id": "arranged-effects",
   "metadata": {},
   "source": [
    "---"
   ]
  },
  {
   "cell_type": "markdown",
   "id": "expanded-spending",
   "metadata": {},
   "source": [
    "8.今年度的毛利率 > 上一年度"
   ]
  },
  {
   "cell_type": "code",
   "execution_count": null,
   "id": "australian-irrigation",
   "metadata": {},
   "outputs": [],
   "source": [
    "z8=df.groupby('公司')['營業毛利率']"
   ]
  },
  {
   "cell_type": "code",
   "execution_count": null,
   "id": "terminal-thickness",
   "metadata": {},
   "outputs": [],
   "source": [
    "df['今年-去年毛利率']=df['營業毛利率']-z8.shift(1)"
   ]
  },
  {
   "cell_type": "code",
   "execution_count": null,
   "id": "boolean-makeup",
   "metadata": {},
   "outputs": [],
   "source": [
    "df['8.今年度的毛利率 > 上一年度']=np.where(df['今年-去年毛利率']>0,1,0)"
   ]
  },
  {
   "cell_type": "markdown",
   "id": "bound-location",
   "metadata": {},
   "source": [
    "---"
   ]
  },
  {
   "cell_type": "markdown",
   "id": "ordinary-inspector",
   "metadata": {},
   "source": [
    "9.今年度的資產週轉率 > 上一年度"
   ]
  },
  {
   "cell_type": "code",
   "execution_count": null,
   "id": "southwest-running",
   "metadata": {},
   "outputs": [],
   "source": [
    "z9=df.groupby('公司')['總資產週轉次數']"
   ]
  },
  {
   "cell_type": "code",
   "execution_count": null,
   "id": "certified-attitude",
   "metadata": {},
   "outputs": [],
   "source": [
    "df['今年-去年資產週轉率']=df['總資產週轉次數']-z9.shift(1)"
   ]
  },
  {
   "cell_type": "code",
   "execution_count": null,
   "id": "instant-remainder",
   "metadata": {},
   "outputs": [],
   "source": [
    "df['9.今年度的資產週轉率 > 上一年度']=np.where(df['今年-去年資產週轉率']>0,1,0)"
   ]
  },
  {
   "cell_type": "markdown",
   "id": "light-taiwan",
   "metadata": {},
   "source": [
    "---"
   ]
  },
  {
   "cell_type": "code",
   "execution_count": null,
   "id": "separate-framework",
   "metadata": {},
   "outputs": [],
   "source": [
    "dict={}\n",
    "a=df.columns\n",
    "b=range(50)\n",
    "for c,d in zip(a,b):\n",
    "    dict.update({c:d})\n",
    "dict"
   ]
  },
  {
   "cell_type": "code",
   "execution_count": null,
   "id": "subjective-kingston",
   "metadata": {},
   "outputs": [],
   "source": [
    "df['f-score']=df.iloc[:,[15,17,18,19,23,25,27]].sum(axis=1)"
   ]
  },
  {
   "cell_type": "code",
   "execution_count": null,
   "id": "reflected-mattress",
   "metadata": {
    "tags": []
   },
   "outputs": [],
   "source": [
    "df.iloc[:,[0,1,2,15,17,18,19,21,23,25,27]].to_csv(r\"\")"
   ]
  },
  {
   "cell_type": "code",
   "execution_count": null,
   "id": "smooth-calgary",
   "metadata": {},
   "outputs": [],
   "source": [
    "df[['公司','年','f-score']].to_csv(r\"\")"
   ]
  },
  {
   "cell_type": "markdown",
   "id": "incorrect-middle",
   "metadata": {},
   "source": [
    "---"
   ]
  },
  {
   "cell_type": "markdown",
   "id": "distinguished-hudson",
   "metadata": {},
   "source": [
    "# 金控"
   ]
  },
  {
   "cell_type": "code",
   "execution_count": null,
   "id": "excess-moses",
   "metadata": {},
   "outputs": [],
   "source": [
    "import pandas as pd\n",
    "import numpy as np"
   ]
  },
  {
   "cell_type": "code",
   "execution_count": null,
   "id": "wired-genetics",
   "metadata": {},
   "outputs": [],
   "source": [
    "df=pd.read_csv(r\"\")"
   ]
  },
  {
   "cell_type": "code",
   "execution_count": null,
   "id": "engaging-atlanta",
   "metadata": {},
   "outputs": [],
   "source": [
    "df = df.rename(columns={'  股本':'股本'})\n"
   ]
  },
  {
   "cell_type": "markdown",
   "id": "useful-renaissance",
   "metadata": {},
   "source": [
    "欄名稱"
   ]
  },
  {
   "cell_type": "code",
   "execution_count": null,
   "id": "opponent-vulnerability",
   "metadata": {
    "tags": []
   },
   "outputs": [],
   "source": [
    "dict={}\n",
    "a=df.columns\n",
    "b=range(50)\n",
    "for c,d in zip(a,b):\n",
    "    dict.update({c:d})\n",
    "dict"
   ]
  },
  {
   "cell_type": "markdown",
   "id": "domestic-voltage",
   "metadata": {},
   "source": [
    "---"
   ]
  },
  {
   "cell_type": "markdown",
   "id": "cubic-ceramic",
   "metadata": {},
   "source": [
    "1.ROA>0"
   ]
  },
  {
   "cell_type": "code",
   "execution_count": null,
   "id": "attractive-running",
   "metadata": {},
   "outputs": [],
   "source": [
    "z1=df.groupby('公司')['資產總額']"
   ]
  },
  {
   "cell_type": "code",
   "execution_count": null,
   "id": "rational-serial",
   "metadata": {},
   "outputs": [],
   "source": [
    "df['期初+期末資產平均']=(df['資產總額']+z1.shift(1))/2"
   ]
  },
  {
   "cell_type": "code",
   "execution_count": null,
   "id": "duplicate-nebraska",
   "metadata": {},
   "outputs": [],
   "source": [
    "df['ROA']=df['本期稅後純益']/df['期初+期末資產平均']"
   ]
  },
  {
   "cell_type": "code",
   "execution_count": null,
   "id": "alike-arrival",
   "metadata": {},
   "outputs": [],
   "source": [
    "df['1.ROA>0']=np.where(df['ROA']>0, 1,0)"
   ]
  },
  {
   "cell_type": "code",
   "execution_count": null,
   "id": "bridal-hurricane",
   "metadata": {},
   "outputs": [],
   "source": []
  },
  {
   "cell_type": "markdown",
   "id": "proof-fishing",
   "metadata": {},
   "source": [
    "---"
   ]
  },
  {
   "cell_type": "markdown",
   "id": "driving-month",
   "metadata": {},
   "source": [
    "2.今年的ROA >去年ROA"
   ]
  },
  {
   "cell_type": "code",
   "execution_count": null,
   "id": "announced-criminal",
   "metadata": {},
   "outputs": [],
   "source": [
    "z2=df.groupby('公司')['ROA']"
   ]
  },
  {
   "cell_type": "code",
   "execution_count": null,
   "id": "recreational-modem",
   "metadata": {},
   "outputs": [],
   "source": [
    "df['今年ROA-去年ROA']=df['ROA']-z2.shift(1)"
   ]
  },
  {
   "cell_type": "code",
   "execution_count": null,
   "id": "pediatric-convergence",
   "metadata": {},
   "outputs": [],
   "source": [
    "df['2.(今年ROA-去年ROA)>0']=np.where(df['今年ROA-去年ROA']>0, 1,0)"
   ]
  },
  {
   "cell_type": "markdown",
   "id": "boolean-discretion",
   "metadata": {},
   "source": [
    "---"
   ]
  },
  {
   "cell_type": "markdown",
   "id": "hairy-threshold",
   "metadata": {},
   "source": [
    "3.今年的營業現金流>0"
   ]
  },
  {
   "cell_type": "code",
   "execution_count": null,
   "id": "northern-jackson",
   "metadata": {},
   "outputs": [],
   "source": [
    "df['3.今年的營業現金流>0']=np.where(df['來自營運之現金流量']>0, 1,0)"
   ]
  },
  {
   "cell_type": "markdown",
   "id": "realistic-thumbnail",
   "metadata": {},
   "source": [
    "---"
   ]
  },
  {
   "cell_type": "markdown",
   "id": "stainless-boating",
   "metadata": {},
   "source": [
    "4.營業現金流>稅後淨利"
   ]
  },
  {
   "cell_type": "code",
   "execution_count": null,
   "id": "assumed-morrison",
   "metadata": {},
   "outputs": [],
   "source": [
    "df['4.營業現金流>稅後淨利']=np.where(df['來自營運之現金流量']>df['本期稅後純益'], 1,0)"
   ]
  },
  {
   "cell_type": "markdown",
   "id": "running-tomorrow",
   "metadata": {},
   "source": [
    "---"
   ]
  },
  {
   "cell_type": "markdown",
   "id": "ecological-present",
   "metadata": {},
   "source": [
    "5.今年度的長期負債金額 < 上一年度"
   ]
  },
  {
   "cell_type": "code",
   "execution_count": null,
   "id": "phantom-ballet",
   "metadata": {},
   "outputs": [],
   "source": [
    "z5=df.groupby('公司')['負債總額']"
   ]
  },
  {
   "cell_type": "code",
   "execution_count": null,
   "id": "french-johns",
   "metadata": {},
   "outputs": [],
   "source": [
    "df['今年-去年的負債總額']=df['負債總額']-z5.shift(1)"
   ]
  },
  {
   "cell_type": "code",
   "execution_count": null,
   "id": "approved-secretary",
   "metadata": {},
   "outputs": [],
   "source": [
    "df['5.今年度的負債總額< 上一年度']=np.where(df['今年-去年的負債總額']<0,1,0)"
   ]
  },
  {
   "cell_type": "markdown",
   "id": "combined-compatibility",
   "metadata": {},
   "source": [
    "---"
   ]
  },
  {
   "cell_type": "markdown",
   "id": "human-green",
   "metadata": {},
   "source": [
    "6.今年度的流動比率 > 上一年度    -----------  no    -------------"
   ]
  },
  {
   "cell_type": "code",
   "execution_count": null,
   "id": "acceptable-globe",
   "metadata": {
    "tags": []
   },
   "outputs": [],
   "source": [
    "z6=df.groupby('公司')['流動比率']"
   ]
  },
  {
   "cell_type": "code",
   "execution_count": null,
   "id": "surrounded-renaissance",
   "metadata": {
    "tags": []
   },
   "outputs": [],
   "source": [
    "df['今年-去年的流動比率']=df['流動比率']-z6.shift(1)"
   ]
  },
  {
   "cell_type": "code",
   "execution_count": null,
   "id": "desirable-sample",
   "metadata": {},
   "outputs": [],
   "source": [
    "df['6.今年度的流動比率 > 上一年度']=np.where(df['今年-去年的流動比率']>0,1,0)"
   ]
  },
  {
   "cell_type": "markdown",
   "id": "extraordinary-escape",
   "metadata": {},
   "source": [
    "---"
   ]
  },
  {
   "cell_type": "markdown",
   "id": "decimal-reader",
   "metadata": {},
   "source": [
    "7.上一年度沒有發行新股"
   ]
  },
  {
   "cell_type": "code",
   "execution_count": null,
   "id": "antique-hierarchy",
   "metadata": {},
   "outputs": [],
   "source": [
    "z7=df.groupby('公司')['股本']"
   ]
  },
  {
   "cell_type": "code",
   "execution_count": null,
   "id": "aging-penalty",
   "metadata": {},
   "outputs": [],
   "source": [
    "df['今年-去年的股本']=df['股本']-z7.shift(1)"
   ]
  },
  {
   "cell_type": "code",
   "execution_count": null,
   "id": "fabulous-comfort",
   "metadata": {},
   "outputs": [],
   "source": [
    "df['7.上一年度沒有發行新股']=np.where(df['今年-去年的股本']<0,1,0)"
   ]
  },
  {
   "cell_type": "markdown",
   "id": "severe-maria",
   "metadata": {},
   "source": [
    "---"
   ]
  },
  {
   "cell_type": "markdown",
   "id": "rough-october",
   "metadata": {},
   "source": [
    "8.今年度的毛利率 > 上一年度"
   ]
  },
  {
   "cell_type": "code",
   "execution_count": null,
   "id": "neural-auction",
   "metadata": {},
   "outputs": [],
   "source": [
    "df['營業成本']=df.iloc[:,11:24].sum(axis=1)"
   ]
  },
  {
   "cell_type": "code",
   "execution_count": null,
   "id": "working-triple",
   "metadata": {},
   "outputs": [],
   "source": [
    "df['營業毛利率']=(df['IS營業收入淨額（舊版）']-df['營業成本'])/df['IS營業收入淨額（舊版）']"
   ]
  },
  {
   "cell_type": "code",
   "execution_count": null,
   "id": "european-procurement",
   "metadata": {},
   "outputs": [],
   "source": [
    "z8=df.groupby('公司')['營業毛利率']"
   ]
  },
  {
   "cell_type": "code",
   "execution_count": null,
   "id": "interim-light",
   "metadata": {},
   "outputs": [],
   "source": [
    "df['今年-去年毛利率']=df['營業毛利率']-z8.shift(1)"
   ]
  },
  {
   "cell_type": "code",
   "execution_count": null,
   "id": "incomplete-daily",
   "metadata": {},
   "outputs": [],
   "source": [
    "df['8.今年度的毛利率 > 上一年度']=np.where(df['今年-去年毛利率']>0,1,0)"
   ]
  },
  {
   "cell_type": "markdown",
   "id": "requested-flesh",
   "metadata": {},
   "source": [
    "---"
   ]
  },
  {
   "cell_type": "markdown",
   "id": "built-silly",
   "metadata": {},
   "source": [
    "9.今年度的資產週轉率 > 上一年度"
   ]
  },
  {
   "cell_type": "code",
   "execution_count": null,
   "id": "dominant-religious",
   "metadata": {},
   "outputs": [],
   "source": [
    "z9=df.groupby('公司')['資產總額']"
   ]
  },
  {
   "cell_type": "code",
   "execution_count": null,
   "id": "great-beach",
   "metadata": {},
   "outputs": [],
   "source": [
    "df['期初+期末資產平均']=(df['資產總額']+z9.shift(1))/2"
   ]
  },
  {
   "cell_type": "code",
   "execution_count": null,
   "id": "outer-arcade",
   "metadata": {},
   "outputs": [],
   "source": [
    "df['總資產週轉次數']=df['IS營業收入淨額（舊版）']/df['期初+期末資產平均']"
   ]
  },
  {
   "cell_type": "code",
   "execution_count": null,
   "id": "blessed-temperature",
   "metadata": {},
   "outputs": [],
   "source": [
    "z91=df.groupby('公司')['總資產週轉次數']"
   ]
  },
  {
   "cell_type": "code",
   "execution_count": null,
   "id": "educated-agency",
   "metadata": {},
   "outputs": [],
   "source": [
    "df['今年-去年資產週轉率']=df['總資產週轉次數']-z91.shift(1)"
   ]
  },
  {
   "cell_type": "code",
   "execution_count": null,
   "id": "developing-colors",
   "metadata": {},
   "outputs": [],
   "source": [
    "df['9.今年度的資產週轉率 > 上一年度']=np.where(df['今年-去年資產週轉率']>0,1,0)"
   ]
  },
  {
   "cell_type": "markdown",
   "id": "accredited-energy",
   "metadata": {},
   "source": [
    "---"
   ]
  },
  {
   "cell_type": "code",
   "execution_count": null,
   "id": "educated-uncertainty",
   "metadata": {},
   "outputs": [],
   "source": [
    "dict={}\n",
    "a=df.columns\n",
    "b=range(50)\n",
    "for c,d in zip(a,b):\n",
    "    dict.update({c:d})\n",
    "dict"
   ]
  },
  {
   "cell_type": "code",
   "execution_count": null,
   "id": "shaped-lightning",
   "metadata": {},
   "outputs": [],
   "source": [
    "df['f-score']=df.iloc[:,[24,26,27,28,32,39]].sum(axis=1)"
   ]
  },
  {
   "cell_type": "code",
   "execution_count": null,
   "id": "theoretical-fantasy",
   "metadata": {
    "tags": []
   },
   "outputs": [],
   "source": [
    "df.iloc[:,[0,1,2,24,26,27,28,32,36,39]].to_csv(r\"\")"
   ]
  },
  {
   "cell_type": "code",
   "execution_count": null,
   "id": "agricultural-burning",
   "metadata": {},
   "outputs": [],
   "source": [
    "df[['公司','年','f-score']].to_csv(r\"\")"
   ]
  },
  {
   "cell_type": "markdown",
   "id": "incredible-helping",
   "metadata": {},
   "source": [
    "---"
   ]
  },
  {
   "cell_type": "code",
   "execution_count": null,
   "id": "unlikely-irrigation",
   "metadata": {},
   "outputs": [],
   "source": []
  },
  {
   "cell_type": "markdown",
   "id": "willing-magazine",
   "metadata": {},
   "source": [
    "# 證券"
   ]
  },
  {
   "cell_type": "code",
   "execution_count": null,
   "id": "beautiful-vanilla",
   "metadata": {},
   "outputs": [],
   "source": [
    "import pandas as pd\n",
    "import numpy as np"
   ]
  },
  {
   "cell_type": "code",
   "execution_count": null,
   "id": "stable-farmer",
   "metadata": {},
   "outputs": [],
   "source": [
    "df=pd.read_csv(r\"\")"
   ]
  },
  {
   "cell_type": "code",
   "execution_count": null,
   "id": "varied-folder",
   "metadata": {},
   "outputs": [],
   "source": [
    "df = df.rename(columns={'  股本':'股本'})\n"
   ]
  },
  {
   "cell_type": "markdown",
   "id": "rotary-absence",
   "metadata": {},
   "source": [
    "欄名稱"
   ]
  },
  {
   "cell_type": "code",
   "execution_count": null,
   "id": "dated-ballet",
   "metadata": {
    "tags": []
   },
   "outputs": [],
   "source": [
    "dict={}\n",
    "a=df.columns\n",
    "b=range(50)\n",
    "for c,d in zip(a,b):\n",
    "    dict.update({c:d})\n",
    "dict"
   ]
  },
  {
   "cell_type": "markdown",
   "id": "talented-equity",
   "metadata": {},
   "source": [
    "---"
   ]
  },
  {
   "cell_type": "markdown",
   "id": "modern-charger",
   "metadata": {},
   "source": [
    "1.ROA>0"
   ]
  },
  {
   "cell_type": "code",
   "execution_count": null,
   "id": "meaning-sound",
   "metadata": {},
   "outputs": [],
   "source": [
    "z1=df.groupby('公司')['資產總額']"
   ]
  },
  {
   "cell_type": "code",
   "execution_count": null,
   "id": "novel-stuff",
   "metadata": {},
   "outputs": [],
   "source": [
    "df['期初+期末資產平均']=(df['資產總額']+z1.shift(1))/2"
   ]
  },
  {
   "cell_type": "code",
   "execution_count": null,
   "id": "downtown-munich",
   "metadata": {},
   "outputs": [],
   "source": [
    "df['ROA']=df['本期稅後純益']/df['期初+期末資產平均']"
   ]
  },
  {
   "cell_type": "code",
   "execution_count": null,
   "id": "suited-gnome",
   "metadata": {},
   "outputs": [],
   "source": [
    "df['1.ROA>0']=np.where(df['ROA']>0, 1,0)"
   ]
  },
  {
   "cell_type": "code",
   "execution_count": null,
   "id": "regulation-female",
   "metadata": {},
   "outputs": [],
   "source": []
  },
  {
   "cell_type": "markdown",
   "id": "nearby-impossible",
   "metadata": {},
   "source": [
    "---"
   ]
  },
  {
   "cell_type": "markdown",
   "id": "changed-brake",
   "metadata": {},
   "source": [
    "2.今年的ROA >去年ROA"
   ]
  },
  {
   "cell_type": "code",
   "execution_count": null,
   "id": "growing-facial",
   "metadata": {},
   "outputs": [],
   "source": [
    "z2=df.groupby('公司')['ROA']"
   ]
  },
  {
   "cell_type": "code",
   "execution_count": null,
   "id": "earlier-exemption",
   "metadata": {},
   "outputs": [],
   "source": [
    "df['今年ROA-去年ROA']=df['ROA']-z2.shift(1)"
   ]
  },
  {
   "cell_type": "code",
   "execution_count": null,
   "id": "intellectual-estonia",
   "metadata": {},
   "outputs": [],
   "source": [
    "df['2.(今年ROA-去年ROA)>0']=np.where(df['今年ROA-去年ROA']>0, 1,0)"
   ]
  },
  {
   "cell_type": "markdown",
   "id": "hawaiian-television",
   "metadata": {},
   "source": [
    "---"
   ]
  },
  {
   "cell_type": "markdown",
   "id": "pleased-harvey",
   "metadata": {},
   "source": [
    "3.今年的營業現金流>0"
   ]
  },
  {
   "cell_type": "code",
   "execution_count": null,
   "id": "prospective-static",
   "metadata": {},
   "outputs": [],
   "source": [
    "df['3.今年的營業現金流>0']=np.where(df['來自營運之現金流量']>0, 1,0)"
   ]
  },
  {
   "cell_type": "markdown",
   "id": "constitutional-minnesota",
   "metadata": {},
   "source": [
    "---"
   ]
  },
  {
   "cell_type": "markdown",
   "id": "norwegian-jamaica",
   "metadata": {},
   "source": [
    "4.營業現金流>稅後淨利"
   ]
  },
  {
   "cell_type": "code",
   "execution_count": null,
   "id": "uniform-ballet",
   "metadata": {},
   "outputs": [],
   "source": [
    "df['4.營業現金流>稅後淨利']=np.where(df['來自營運之現金流量']>df['本期稅後純益'], 1,0)"
   ]
  },
  {
   "cell_type": "markdown",
   "id": "generous-hearts",
   "metadata": {},
   "source": [
    "---"
   ]
  },
  {
   "cell_type": "markdown",
   "id": "hairy-sunday",
   "metadata": {},
   "source": [
    "5.今年度的長期負債金額 < 上一年度"
   ]
  },
  {
   "cell_type": "code",
   "execution_count": null,
   "id": "behavioral-defense",
   "metadata": {},
   "outputs": [],
   "source": [
    "z5=df.groupby('公司')['其他長期負債－非流動']"
   ]
  },
  {
   "cell_type": "code",
   "execution_count": null,
   "id": "electoral-television",
   "metadata": {},
   "outputs": [],
   "source": [
    "df['今年-去年的長期負債金額']=df['其他長期負債－非流動']-z5.shift(1)"
   ]
  },
  {
   "cell_type": "code",
   "execution_count": null,
   "id": "original-fairy",
   "metadata": {},
   "outputs": [],
   "source": [
    "df['5.今年度的長期負債金額< 上一年度']=np.where(df['今年-去年的長期負債金額']<0,1,0)"
   ]
  },
  {
   "cell_type": "markdown",
   "id": "acceptable-guarantee",
   "metadata": {},
   "source": [
    "---"
   ]
  },
  {
   "cell_type": "markdown",
   "id": "boolean-bangkok",
   "metadata": {},
   "source": [
    "6.今年度的流動比率 > 上一年度"
   ]
  },
  {
   "cell_type": "code",
   "execution_count": null,
   "id": "skilled-banks",
   "metadata": {},
   "outputs": [],
   "source": [
    "z6=df.groupby('公司')['流動比率']"
   ]
  },
  {
   "cell_type": "code",
   "execution_count": null,
   "id": "standing-endorsement",
   "metadata": {},
   "outputs": [],
   "source": [
    "df['今年-去年的流動比率']=df['流動比率']-z6.shift(1)"
   ]
  },
  {
   "cell_type": "code",
   "execution_count": null,
   "id": "antique-anthropology",
   "metadata": {},
   "outputs": [],
   "source": [
    "df['6.今年度的流動比率 > 上一年度']=np.where(df['今年-去年的流動比率']>0,1,0)"
   ]
  },
  {
   "cell_type": "markdown",
   "id": "alone-lighting",
   "metadata": {},
   "source": [
    "---"
   ]
  },
  {
   "cell_type": "markdown",
   "id": "foster-plaza",
   "metadata": {},
   "source": [
    "7.上一年度沒有發行新股"
   ]
  },
  {
   "cell_type": "code",
   "execution_count": null,
   "id": "detailed-chase",
   "metadata": {},
   "outputs": [],
   "source": [
    "z7=df.groupby('公司')['股本']"
   ]
  },
  {
   "cell_type": "code",
   "execution_count": null,
   "id": "aging-toolbox",
   "metadata": {},
   "outputs": [],
   "source": [
    "df['今年-去年的股本']=df['股本']-z7.shift(1)"
   ]
  },
  {
   "cell_type": "code",
   "execution_count": null,
   "id": "foreign-thriller",
   "metadata": {},
   "outputs": [],
   "source": [
    "df['7.上一年度沒有發行新股']=np.where(df['今年-去年的股本']<0,1,0)"
   ]
  },
  {
   "cell_type": "markdown",
   "id": "worldwide-winning",
   "metadata": {},
   "source": [
    "---"
   ]
  },
  {
   "cell_type": "markdown",
   "id": "dress-guidance",
   "metadata": {},
   "source": [
    "8.今年度的毛利率 > 上一年度"
   ]
  },
  {
   "cell_type": "code",
   "execution_count": null,
   "id": "featured-image",
   "metadata": {},
   "outputs": [],
   "source": [
    "z8=df.groupby('公司')['營業毛利率']"
   ]
  },
  {
   "cell_type": "code",
   "execution_count": null,
   "id": "indian-purpose",
   "metadata": {},
   "outputs": [],
   "source": [
    "df['今年-去年毛利率']=df['營業毛利率']-z8.shift(1)"
   ]
  },
  {
   "cell_type": "code",
   "execution_count": null,
   "id": "coral-explorer",
   "metadata": {},
   "outputs": [],
   "source": [
    "df['8.今年度的毛利率 > 上一年度']=np.where(df['今年-去年毛利率']>0,1,0)"
   ]
  },
  {
   "cell_type": "markdown",
   "id": "worldwide-cleveland",
   "metadata": {},
   "source": [
    "---"
   ]
  },
  {
   "cell_type": "markdown",
   "id": "finished-information",
   "metadata": {},
   "source": [
    "9.今年度的資產週轉率 > 上一年度"
   ]
  },
  {
   "cell_type": "code",
   "execution_count": null,
   "id": "derived-opening",
   "metadata": {},
   "outputs": [],
   "source": [
    "z9=df.groupby('公司')['總資產週轉次數']"
   ]
  },
  {
   "cell_type": "code",
   "execution_count": null,
   "id": "communist-catholic",
   "metadata": {},
   "outputs": [],
   "source": [
    "df['今年-去年資產週轉率']=df['總資產週轉次數']-z9.shift(1)"
   ]
  },
  {
   "cell_type": "code",
   "execution_count": null,
   "id": "careful-aluminum",
   "metadata": {},
   "outputs": [],
   "source": [
    "df['9.今年度的資產週轉率 > 上一年度']=np.where(df['今年-去年資產週轉率']>0,1,0)"
   ]
  },
  {
   "cell_type": "markdown",
   "id": "collaborative-asset",
   "metadata": {},
   "source": [
    "---"
   ]
  },
  {
   "cell_type": "code",
   "execution_count": null,
   "id": "cellular-inquiry",
   "metadata": {},
   "outputs": [],
   "source": [
    "dict={}\n",
    "a=df.columns\n",
    "b=range(50)\n",
    "for c,d in zip(a,b):\n",
    "    dict.update({c:d})\n",
    "dict"
   ]
  },
  {
   "cell_type": "code",
   "execution_count": null,
   "id": "intimate-relative",
   "metadata": {},
   "outputs": [],
   "source": [
    "df['f-score']=df.iloc[:,[18,20,21,22,24,26,28,30,32]].sum(axis=1)"
   ]
  },
  {
   "cell_type": "code",
   "execution_count": null,
   "id": "distinct-defensive",
   "metadata": {
    "tags": []
   },
   "outputs": [],
   "source": [
    "df.iloc[:,[0,1,2,18,20,21,22,24,26,28,30,32]].to_csv(r\"\")"
   ]
  },
  {
   "cell_type": "code",
   "execution_count": null,
   "id": "minor-republican",
   "metadata": {},
   "outputs": [],
   "source": [
    "df[['公司','年','f-score']].to_csv(r\"\")"
   ]
  },
  {
   "cell_type": "markdown",
   "id": "sixth-television",
   "metadata": {},
   "source": [
    "---"
   ]
  }
 ],
 "metadata": {
  "kernelspec": {
   "display_name": "Python 3",
   "language": "python",
   "name": "python3"
  },
  "language_info": {
   "codemirror_mode": {
    "name": "ipython",
    "version": 3
   },
   "file_extension": ".py",
   "mimetype": "text/x-python",
   "name": "python",
   "nbconvert_exporter": "python",
   "pygments_lexer": "ipython3",
   "version": "3.9.2"
  }
 },
 "nbformat": 4,
 "nbformat_minor": 5
}
